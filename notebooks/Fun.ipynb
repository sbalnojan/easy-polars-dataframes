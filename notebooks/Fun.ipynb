{
 "cells": [
  {
   "cell_type": "code",
   "execution_count": 1,
   "id": "cad140e4-e725-4299-8f55-6db3a8f0f8f3",
   "metadata": {
    "tags": []
   },
   "outputs": [
    {
     "name": "stdout",
     "output_type": "stream",
     "text": [
      "Collecting polars\n",
      "  Downloading polars-0.16.14-cp37-abi3-manylinux_2_17_x86_64.manylinux2014_x86_64.whl (16.2 MB)\n",
      "\u001b[2K     \u001b[90m━━━━━━━━━━━━━━━━━━━━━━━━━━━━━━━━━━━━━━━━\u001b[0m \u001b[32m16.2/16.2 MB\u001b[0m \u001b[31m47.4 MB/s\u001b[0m eta \u001b[36m0:00:00\u001b[0m00:01\u001b[0m00:01\u001b[0m\n",
      "\u001b[?25hRequirement already satisfied: typing_extensions>=4.0.1 in /opt/conda/lib/python3.10/site-packages (from polars) (4.5.0)\n",
      "Installing collected packages: polars\n",
      "Successfully installed polars-0.16.14\n"
     ]
    }
   ],
   "source": [
    "!pip install polars"
   ]
  },
  {
   "cell_type": "code",
   "execution_count": 2,
   "id": "2105d7de-2765-4a48-82cb-8906fee8571a",
   "metadata": {
    "tags": []
   },
   "outputs": [
    {
     "data": {
      "text/html": [
       "<div><style>\n",
       ".dataframe > thead > tr > th,\n",
       ".dataframe > tbody > tr > td {\n",
       "  text-align: right;\n",
       "}\n",
       "</style>\n",
       "<small>shape: (3, 4)</small><table border=\"1\" class=\"dataframe\"><thead><tr><th>name</th><th>hours_worked</th><th>hours_on_tiktok</th><th>product_succeeded</th></tr><tr><td>str</td><td>i64</td><td>i64</td><td>i64</td></tr></thead><tbody><tr><td>&quot;Sven&quot;</td><td>1</td><td>10</td><td>0</td></tr><tr><td>&quot;Eve&quot;</td><td>2</td><td>0</td><td>1</td></tr><tr><td>&quot;Tom&quot;</td><td>3</td><td>0</td><td>1</td></tr></tbody></table></div>"
      ],
      "text/plain": [
       "shape: (3, 4)\n",
       "┌──────┬──────────────┬─────────────────┬───────────────────┐\n",
       "│ name ┆ hours_worked ┆ hours_on_tiktok ┆ product_succeeded │\n",
       "│ ---  ┆ ---          ┆ ---             ┆ ---               │\n",
       "│ str  ┆ i64          ┆ i64             ┆ i64               │\n",
       "╞══════╪══════════════╪═════════════════╪═══════════════════╡\n",
       "│ Sven ┆ 1            ┆ 10              ┆ 0                 │\n",
       "│ Eve  ┆ 2            ┆ 0               ┆ 1                 │\n",
       "│ Tom  ┆ 3            ┆ 0               ┆ 1                 │\n",
       "└──────┴──────────────┴─────────────────┴───────────────────┘"
      ]
     },
     "execution_count": 2,
     "metadata": {},
     "output_type": "execute_result"
    }
   ],
   "source": [
    "import polars as pl\n",
    "\n",
    "# A manually created polars df\n",
    "df = pl.DataFrame(\n",
    "     {\n",
    "         'name': ['Sven', 'Eve', 'Tom'],\n",
    "         'hours_worked': [1, 2, 3],     \n",
    "         'hours_on_tiktok': [10, 0, 0],\n",
    "         'product_succeeded': [0, 1, 1],\n",
    "     }\n",
    ")\n",
    "df"
   ]
  },
  {
   "cell_type": "code",
   "execution_count": 7,
   "id": "5fe02ce5-d0b3-4055-a7b7-283f88cf437f",
   "metadata": {
    "tags": []
   },
   "outputs": [
    {
     "name": "stdout",
     "output_type": "stream",
     "text": [
      "[Utf8, Int64, Int64, Int64] ['name', 'hours_worked', 'hours_on_tiktok', 'product_succeeded'] [('Sven', 1, 10, 0), ('Eve', 2, 0, 1), ('Tom', 3, 0, 1)]\n"
     ]
    }
   ],
   "source": [
    "# your typical types, columns etc operations\n",
    "print(df.dtypes,df.columns, df.rows())"
   ]
  },
  {
   "cell_type": "code",
   "execution_count": null,
   "id": "65493ba5-4ab0-4c21-9f63-87627a3c1170",
   "metadata": {},
   "outputs": [],
   "source": [
    "# NO point in working witgh small data here... Polars has a lovely interface in general\n",
    "# but if we want to know what it is in a nuthsell, we need to load a BIG dataset, one that doesn't fit into mem\n",
    "# (my mem here is ... b.c. it#s a small dockerized version you can test yourself!)"
   ]
  },
  {
   "cell_type": "code",
   "execution_count": null,
   "id": "2618f392-7b67-4689-a695-9fbadcbb1a2c",
   "metadata": {},
   "outputs": [],
   "source": []
  }
 ],
 "metadata": {
  "kernelspec": {
   "display_name": "Python 3 (ipykernel)",
   "language": "python",
   "name": "python3"
  },
  "language_info": {
   "codemirror_mode": {
    "name": "ipython",
    "version": 3
   },
   "file_extension": ".py",
   "mimetype": "text/x-python",
   "name": "python",
   "nbconvert_exporter": "python",
   "pygments_lexer": "ipython3",
   "version": "3.10.9"
  }
 },
 "nbformat": 4,
 "nbformat_minor": 5
}
